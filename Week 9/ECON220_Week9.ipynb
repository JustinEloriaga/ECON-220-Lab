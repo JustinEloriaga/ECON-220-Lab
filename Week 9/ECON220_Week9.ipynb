{
 "cells": [
  {
   "cell_type": "markdown",
   "metadata": {},
   "source": [
    "# ECON 220 Lab - Week 9"
   ]
  },
  {
   "cell_type": "markdown",
   "metadata": {},
   "source": [
    "Justin S. Eloriaga"
   ]
  },
  {
   "cell_type": "markdown",
   "metadata": {},
   "source": [
    "Today, our main goal is REPLICATION. This is a vital skill in economic research. One good way to learn is to be able to replicate past work and really understand what was going on. This is also usually done to check if codes or analysis done by other researchers were reasonably correct."
   ]
  },
  {
   "cell_type": "markdown",
   "metadata": {},
   "source": [
    "We will be using the classic example, probably one of the most read Economics papers of all time, Card and Krueger's paper on Minimum Wages. Feel free to read it here: https://davidcard.berkeley.edu/papers/njmin-aer.pdf  "
   ]
  },
  {
   "cell_type": "markdown",
   "metadata": {},
   "source": [
    "Typical Econ Theory: When minimum wages go up, firms want to cut back, hence, employment is reduced. "
   ]
  },
  {
   "cell_type": "markdown",
   "metadata": {},
   "source": [
    "The abstract of Card and Krueger (1993): On April 1, 1992, New Jersey's minimum wage rose from $4.25 to $5.05 per\n",
    "hour. To evaluate the impact of the law we surveyed 410 fast-food restaurants in\n",
    "New Jersey and eastern Pennsylvania before and after the rise. Comparisons of\n",
    "employment growth at stores in New Jersey and Pennsylvania (where the\n",
    "minimum wage was constant) provide simple estimates of the effect of the higher\n",
    "minimum wage. We also compare employment changes at stores in New Jersey\n",
    "that were initially paying high wages (above $5) to the changes at lower-wage\n",
    "stores. We find no indication that the rise in the minimum wage reduced\n",
    "employment"
   ]
  },
  {
   "cell_type": "markdown",
   "metadata": {},
   "source": [
    "As usual, let's start by importing the libraries"
   ]
  },
  {
   "cell_type": "code",
   "execution_count": 1,
   "metadata": {},
   "outputs": [],
   "source": [
    "import pandas as pd\n",
    "import numpy as np\n",
    "import matplotlib.pyplot as plt"
   ]
  },
  {
   "cell_type": "markdown",
   "metadata": {},
   "source": [
    "Let's load the dataset"
   ]
  }
 ],
 "metadata": {
  "kernelspec": {
   "display_name": "Python 3",
   "language": "python",
   "name": "python3"
  },
  "language_info": {
   "codemirror_mode": {
    "name": "ipython",
    "version": 3
   },
   "file_extension": ".py",
   "mimetype": "text/x-python",
   "name": "python",
   "nbconvert_exporter": "python",
   "pygments_lexer": "ipython3",
   "version": "3.13.0"
  }
 },
 "nbformat": 4,
 "nbformat_minor": 2
}
